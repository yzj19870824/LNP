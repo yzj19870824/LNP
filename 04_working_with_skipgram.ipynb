{
 "cells": [
  {
   "cell_type": "markdown",
   "metadata": {
    "deletable": true,
    "editable": true
   },
   "source": [
    "# Word2Vec: Skipgram Model\n",
    "-------------------------------------\n",
    "\n",
    "In this example, we will download and preprocess the movie review data.\n",
    "\n",
    "From this data set we will compute/fit the skipgram model of the Word2Vec Algorithm\n",
    "\n",
    "Skipgram: based on predicting the surrounding words from the\n",
    "\n",
    "Ex sentence \"the cat in the hat\"\n",
    " - context word:  [\"hat\"]\n",
    " - target words: [\"the\", \"cat\", \"in\", \"the\"]\n",
    " - context-target pairs: (\"hat\", \"the\"), (\"hat\", \"cat\"), (\"hat\", \"in\"), (\"hat\", \"the\")\n",
    "\n",
    "We start by loading the necessary libraries."
   ]
  },
  {
   "cell_type": "code",
   "execution_count": 1,
   "metadata": {
    "collapsed": false,
    "deletable": true,
    "editable": true
   },
   "outputs": [],
   "source": [
    "import tensorflow as tf\n",
    "import matplotlib.pyplot as plt\n",
    "%matplotlib inline\n",
    "import numpy as np\n",
    "import random\n",
    "import os\n",
    "import string\n",
    "import requests\n",
    "import collections\n",
    "import io\n",
    "import tarfile\n",
    "import gzip\n",
    "from nltk.corpus import stopwords\n",
    "from tensorflow.python.framework import ops\n",
    "ops.reset_default_graph()"
   ]
  },
  {
   "cell_type": "markdown",
   "metadata": {
    "deletable": true,
    "editable": true
   },
   "source": [
    "Start a computational graph session."
   ]
  },
  {
   "cell_type": "code",
   "execution_count": 2,
   "metadata": {
    "collapsed": true,
    "deletable": true,
    "editable": true
   },
   "outputs": [],
   "source": [
    "sess = tf.Session()"
   ]
  },
  {
   "cell_type": "markdown",
   "metadata": {
    "deletable": true,
    "editable": true
   },
   "source": [
    "Declare model parameters"
   ]
  },
  {
   "cell_type": "code",
   "execution_count": 3,
   "metadata": {
    "collapsed": true,
    "deletable": true,
    "editable": true
   },
   "outputs": [],
   "source": [
    "batch_size = 100         # How many sets of words to train on at once.\n",
    "embedding_size = 100    # The embedding size of each word to train.\n",
    "vocabulary_size = 2000 # How many words we will consider for training.\n",
    "generations = 100000    # How many iterations we will perform the training on.\n",
    "print_loss_every = 1000  # Print the loss every so many iterations\n",
    "\n",
    "num_sampled = int(batch_size/2) # Number of negative examples to sample.\n",
    "window_size = 5         # How many words to consider left and right."
   ]
  },
  {
   "cell_type": "markdown",
   "metadata": {
    "deletable": true,
    "editable": true
   },
   "source": [
    "We will remove stop words and create a test validation set of words."
   ]
  },
  {
   "cell_type": "code",
   "execution_count": 4,
   "metadata": {
    "collapsed": true,
    "deletable": true,
    "editable": true
   },
   "outputs": [],
   "source": [
    "# Declare stop words\n",
    "stops = stopwords.words('english')\n",
    "\n",
    "# We pick five test words. We are expecting synonyms to appear\n",
    "print_valid_every = 10000\n",
    "valid_words = ['cliche', 'love', 'hate', 'silly', 'sad']\n",
    "# Later we will have to transform these into indices"
   ]
  },
  {
   "cell_type": "markdown",
   "metadata": {
    "deletable": true,
    "editable": true
   },
   "source": [
    "Next, we load the movie review data.  We check if the data was downloaded, and not, download and save it."
   ]
  },
  {
   "cell_type": "code",
   "execution_count": 12,
   "metadata": {
    "collapsed": false,
    "deletable": true,
    "editable": true,
    "scrolled": false
   },
   "outputs": [],
   "source": [
    "def load_movie_data():\n",
    "    save_folder_name = 'temp'\n",
    "    pos_file = os.path.join(save_folder_name, 'rt-polaritydata', 'rt-polarity.pos')\n",
    "    neg_file = os.path.join(save_folder_name, 'rt-polaritydata', 'rt-polarity.neg')\n",
    "\n",
    "    # Check if files are already downloaded\n",
    "    if not os.path.exists(os.path.join(save_folder_name, 'rt-polaritydata')):\n",
    "        movie_data_url = 'http://www.cs.cornell.edu/people/pabo/movie-review-data/rt-polaritydata.tar.gz'\n",
    "\n",
    "        # Save tar.gz file\n",
    "        req = requests.get(movie_data_url, stream=True)\n",
    "        with open(os.path.join(save_folder_name,'temp_movie_review_temp.tar.gz'), 'wb') as f:\n",
    "            for chunk in req.iter_content(chunk_size=1024):\n",
    "                if chunk:\n",
    "                    f.write(chunk)\n",
    "                    f.flush()\n",
    "        # Extract tar.gz file into temp folder\n",
    "        tar = tarfile.open(os.path.join(save_folder_name,'temp_movie_review_temp.tar.gz'), \"r:gz\")\n",
    "        tar.extractall(path='temp')\n",
    "        tar.close()\n",
    "    \n",
    "    pos_data = []\n",
    "    #with open(pos_file, 'r', encoding='latin-1') as f:\n",
    "    with open(pos_file, 'r') as f:\n",
    "        for line in f:\n",
    "            pos_data.append(line)#.encode('ascii',errors='ignore').decode())\n",
    "    f.close()\n",
    "    pos_data = [x.rstrip() for x in pos_data]\n",
    "\n",
    "    neg_data = []\n",
    "    #with open(neg_file, 'r', encoding='latin-1') as f:\n",
    "    with open(neg_file, 'r') as f:\n",
    "        for line in f:\n",
    "            neg_data.append(line)#.encode('ascii',errors='ignore').decode())\n",
    "    f.close()\n",
    "    neg_data = [x.rstrip() for x in neg_data]\n",
    "    \n",
    "    #pos_data = [x.rstrip() for x in pos_data]\n",
    "    #neg_data = [x.rstrip() for x in neg_data]\n",
    "    \n",
    "    texts = pos_data + neg_data\n",
    "    target = [1]*len(pos_data) + [0]*len(neg_data)\n",
    "    \n",
    "    return(texts, target)\n",
    "\n",
    "\n",
    "texts, target = load_movie_data()"
   ]
  },
  {
   "cell_type": "markdown",
   "metadata": {
    "deletable": true,
    "editable": true
   },
   "source": [
    "Now we create a function that normalizes/cleans the text."
   ]
  },
  {
   "cell_type": "code",
   "execution_count": 13,
   "metadata": {
    "collapsed": false,
    "deletable": true,
    "editable": true
   },
   "outputs": [
    {
     "name": "stderr",
     "output_type": "stream",
     "text": [
      "/home/jerry/anaconda2/lib/python2.7/site-packages/ipykernel/__main__.py:13: UnicodeWarning: Unicode equal comparison failed to convert both arguments to Unicode - interpreting them as being unequal\n"
     ]
    }
   ],
   "source": [
    "# Normalize text\n",
    "def normalize_text(texts, stops):\n",
    "    # Lower case\n",
    "    texts = [x.lower() for x in texts]\n",
    "\n",
    "    # Remove punctuation\n",
    "    texts = [''.join(c for c in x if c not in string.punctuation) for x in texts]\n",
    "\n",
    "    # Remove numbers\n",
    "    texts = [''.join(c for c in x if c not in '0123456789') for x in texts]\n",
    "\n",
    "    # Remove stopwords\n",
    "    texts = [' '.join([word for word in x.split() if word not in (stops)]) for x in texts]\n",
    "\n",
    "    # Trim extra whitespace\n",
    "    texts = [' '.join(x.split()) for x in texts]\n",
    "    \n",
    "    return(texts)\n",
    "    \n",
    "texts = normalize_text(texts, stops)\n",
    "\n",
    "# Texts must contain at least 3 words\n",
    "target = [target[ix] for ix, x in enumerate(texts) if len(x.split()) > 2]\n",
    "texts = [x for x in texts if len(x.split()) > 2]"
   ]
  },
  {
   "cell_type": "markdown",
   "metadata": {
    "deletable": true,
    "editable": true
   },
   "source": [
    "With the normalized movie reviews, we now build a dictionary of words."
   ]
  },
  {
   "cell_type": "code",
   "execution_count": 14,
   "metadata": {
    "collapsed": true,
    "deletable": true,
    "editable": true
   },
   "outputs": [],
   "source": [
    "# Build dictionary of words\n",
    "def build_dictionary(sentences, vocabulary_size):\n",
    "    # Turn sentences (list of strings) into lists of words\n",
    "    split_sentences = [s.split() for s in sentences]\n",
    "    words = [x for sublist in split_sentences for x in sublist]\n",
    "    \n",
    "    # Initialize list of [word, word_count] for each word, starting with unknown\n",
    "    count = [['RARE', -1]]\n",
    "    \n",
    "    # Now add most frequent words, limited to the N-most frequent (N=vocabulary size)\n",
    "    count.extend(collections.Counter(words).most_common(vocabulary_size-1))\n",
    "    \n",
    "    # Now create the dictionary\n",
    "    word_dict = {}\n",
    "    # For each word, that we want in the dictionary, add it, then make it\n",
    "    # the value of the prior dictionary length\n",
    "    for word, word_count in count:\n",
    "        word_dict[word] = len(word_dict)\n",
    "    \n",
    "    return(word_dict)"
   ]
  },
  {
   "cell_type": "markdown",
   "metadata": {
    "deletable": true,
    "editable": true
   },
   "source": [
    "With the above dictionary, we can turn text data into lists of integers from such dictionary."
   ]
  },
  {
   "cell_type": "code",
   "execution_count": 15,
   "metadata": {
    "collapsed": true,
    "deletable": true,
    "editable": true
   },
   "outputs": [],
   "source": [
    "def text_to_numbers(sentences, word_dict):\n",
    "    # Initialize the returned data\n",
    "    data = []\n",
    "    for sentence in sentences:\n",
    "        sentence_data = []\n",
    "        # For each word, either use selected index or rare word index\n",
    "        for word in sentence.split(' '):\n",
    "            if word in word_dict:\n",
    "                word_ix = word_dict[word]\n",
    "            else:\n",
    "                word_ix = 0\n",
    "            sentence_data.append(word_ix)\n",
    "        data.append(sentence_data)\n",
    "    return(data)\n",
    "\n",
    "# Build our data set and dictionaries\n",
    "word_dictionary = build_dictionary(texts, vocabulary_size)\n",
    "word_dictionary_rev = dict(zip(word_dictionary.values(), word_dictionary.keys()))\n",
    "text_data = text_to_numbers(texts, word_dictionary)\n",
    "\n",
    "# Get validation word keys\n",
    "valid_examples = [word_dictionary[x] for x in valid_words]"
   ]
  },
  {
   "cell_type": "markdown",
   "metadata": {
    "deletable": true,
    "editable": true
   },
   "source": [
    "Let us now build a function that will generate random data points from our text and parameters."
   ]
  },
  {
   "cell_type": "code",
   "execution_count": 16,
   "metadata": {
    "collapsed": true,
    "deletable": true,
    "editable": true
   },
   "outputs": [],
   "source": [
    "# Generate data randomly (N words behind, target, N words ahead)\n",
    "def generate_batch_data(sentences, batch_size, window_size, method='skip_gram'):\n",
    "    # Fill up data batch\n",
    "    batch_data = []\n",
    "    label_data = []\n",
    "    while len(batch_data) < batch_size:\n",
    "        # select random sentence to start\n",
    "        rand_sentence = np.random.choice(sentences)\n",
    "        # Generate consecutive windows to look at\n",
    "        window_sequences = [rand_sentence[max((ix-window_size),0):(ix+window_size+1)] for ix, x in enumerate(rand_sentence)]\n",
    "        # Denote which element of each window is the center word of interest\n",
    "        label_indices = [ix if ix<window_size else window_size for ix,x in enumerate(window_sequences)]\n",
    "        \n",
    "        # Pull out center word of interest for each window and create a tuple for each window\n",
    "        if method=='skip_gram':\n",
    "            batch_and_labels = [(x[y], x[:y] + x[(y+1):]) for x,y in zip(window_sequences, label_indices)]\n",
    "            # Make it in to a big list of tuples (target word, surrounding word)\n",
    "            tuple_data = [(x, y_) for x,y in batch_and_labels for y_ in y]\n",
    "        elif method=='cbow':\n",
    "            batch_and_labels = [(x[:y] + x[(y+1):], x[y]) for x,y in zip(window_sequences, label_indices)]\n",
    "            # Make it in to a big list of tuples (target word, surrounding word)\n",
    "            tuple_data = [(x_, y) for x,y in batch_and_labels for x_ in x]\n",
    "        else:\n",
    "            raise ValueError('Method {} not implemented yet.'.format(method))\n",
    "            \n",
    "        # extract batch and labels\n",
    "        batch, labels = [list(x) for x in zip(*tuple_data)]\n",
    "        batch_data.extend(batch[:batch_size])\n",
    "        label_data.extend(labels[:batch_size])\n",
    "    # Trim batch and label at the end\n",
    "    batch_data = batch_data[:batch_size]\n",
    "    label_data = label_data[:batch_size]\n",
    "    \n",
    "    # Convert to numpy array\n",
    "    batch_data = np.array(batch_data)\n",
    "    label_data = np.transpose(np.array([label_data]))\n",
    "    \n",
    "    return(batch_data, label_data)"
   ]
  },
  {
   "cell_type": "markdown",
   "metadata": {
    "deletable": true,
    "editable": true
   },
   "source": [
    "Next we define our model and placeholders."
   ]
  },
  {
   "cell_type": "code",
   "execution_count": 17,
   "metadata": {
    "collapsed": true,
    "deletable": true,
    "editable": true
   },
   "outputs": [],
   "source": [
    "# Define Embeddings:\n",
    "embeddings = tf.Variable(tf.random_uniform([vocabulary_size, embedding_size], -1.0, 1.0))\n",
    "\n",
    "# NCE loss parameters\n",
    "nce_weights = tf.Variable(tf.truncated_normal([vocabulary_size, embedding_size],\n",
    "                                               stddev=1.0 / np.sqrt(embedding_size)))\n",
    "nce_biases = tf.Variable(tf.zeros([vocabulary_size]))\n",
    "\n",
    "# Create data/target placeholders\n",
    "x_inputs = tf.placeholder(tf.int32, shape=[batch_size])\n",
    "y_target = tf.placeholder(tf.int32, shape=[batch_size, 1])\n",
    "valid_dataset = tf.constant(valid_examples, dtype=tf.int32)\n",
    "\n",
    "# Lookup the word embedding:\n",
    "embed = tf.nn.embedding_lookup(embeddings, x_inputs)"
   ]
  },
  {
   "cell_type": "markdown",
   "metadata": {
    "deletable": true,
    "editable": true
   },
   "source": [
    "Here is our loss function, optimizer, cosine similarity, and initialization of the model variables.\n",
    "\n",
    "For the loss function we will minimize the average of the NCE loss (noise-contrastive estimation)."
   ]
  },
  {
   "cell_type": "code",
   "execution_count": 18,
   "metadata": {
    "collapsed": false,
    "deletable": true,
    "editable": true
   },
   "outputs": [],
   "source": [
    "# Get loss from prediction\n",
    "loss = tf.reduce_mean(tf.nn.nce_loss(weights=nce_weights,\n",
    "                                     biases=nce_biases,\n",
    "                                     labels=y_target,\n",
    "                                     inputs=embed,\n",
    "                                     num_sampled=num_sampled,\n",
    "                                     num_classes=vocabulary_size))\n",
    "\n",
    "# Create optimizer\n",
    "optimizer = tf.train.GradientDescentOptimizer(learning_rate=1.0).minimize(loss)\n",
    "\n",
    "# Cosine similarity between words\n",
    "norm = tf.sqrt(tf.reduce_sum(tf.square(embeddings), 1, keep_dims=True))\n",
    "normalized_embeddings = embeddings / norm\n",
    "valid_embeddings = tf.nn.embedding_lookup(normalized_embeddings, valid_dataset)\n",
    "similarity = tf.matmul(valid_embeddings, normalized_embeddings, transpose_b=True)\n",
    "\n",
    "\n",
    "#Add variable initializer.\n",
    "init = tf.global_variables_initializer()\n",
    "sess.run(init)"
   ]
  },
  {
   "cell_type": "code",
   "execution_count": 19,
   "metadata": {
    "collapsed": true
   },
   "outputs": [],
   "source": [
    "sim_init = sess.run(similarity)"
   ]
  },
  {
   "cell_type": "markdown",
   "metadata": {
    "deletable": true,
    "editable": true
   },
   "source": [
    "Now we can train our skip-gram model."
   ]
  },
  {
   "cell_type": "code",
   "execution_count": 20,
   "metadata": {
    "collapsed": false,
    "deletable": true,
    "editable": true,
    "scrolled": true
   },
   "outputs": [
    {
     "name": "stdout",
     "output_type": "stream",
     "text": [
      "Loss at step 1000 : 5.42025613785\n",
      "Loss at step 2000 : 4.35336399078\n",
      "Loss at step 3000 : 5.06757545471\n",
      "Loss at step 4000 : 4.46739673615\n",
      "Loss at step 5000 : 4.09109020233\n",
      "Loss at step 6000 : 4.10543203354\n",
      "Loss at step 7000 : 3.84273386002\n",
      "Loss at step 8000 : 4.0267829895\n",
      "Loss at step 9000 : 4.36373329163\n",
      "Loss at step 10000 : 3.76077127457\n",
      "Nearest to cliche: elaborate, christian, uplifting, cultural, lane,\n",
      "Nearest to love: car, film, little, id, make,\n",
      "Nearest to hate: early, RARE, handsome, mindless, unintentionally,\n",
      "Nearest to silly: believe, analyze, creativity, intended, cute,\n",
      "Nearest to sad: smile, one, guys, RARE, becomes,\n",
      "Loss at step 11000 : 4.03137969971\n",
      "Loss at step 12000 : 5.05955934525\n",
      "Loss at step 13000 : 3.8888092041\n",
      "Loss at step 14000 : 4.19817733765\n",
      "Loss at step 15000 : 4.48618412018\n",
      "Loss at step 16000 : 4.30534410477\n",
      "Loss at step 17000 : 4.56413841248\n",
      "Loss at step 18000 : 4.0878071785\n",
      "Loss at step 19000 : 3.59161353111\n",
      "Loss at step 20000 : 3.86878490448\n",
      "Nearest to cliche: elaborate, uplifting, cheesy, lane, k,\n",
      "Nearest to love: little, RARE, one, madonna, disbelief,\n",
      "Nearest to hate: RARE, early, unintentionally, sentiment, handsome,\n",
      "Nearest to silly: believe, analyze, creativity, intended, deep,\n",
      "Nearest to sad: smile, one, guys, becomes, type,\n",
      "Loss at step 21000 : 3.72765803337\n",
      "Loss at step 22000 : 3.47645235062\n",
      "Loss at step 23000 : 3.67997646332\n",
      "Loss at step 24000 : 4.39021492004\n",
      "Loss at step 25000 : 3.91571235657\n",
      "Loss at step 26000 : 3.7885389328\n",
      "Loss at step 27000 : 4.05328989029\n",
      "Loss at step 28000 : 4.5585064888\n",
      "Loss at step 29000 : 2.7906806469\n",
      "Loss at step 30000 : 3.55469107628\n",
      "Nearest to cliche: elaborate, cheesy, uplifting, lane, grant,\n",
      "Nearest to love: little, RARE, one, science, windtalkers,\n",
      "Nearest to hate: early, unintentionally, RARE, us, sentiment,\n",
      "Nearest to silly: believe, analyze, deep, intended, creativity,\n",
      "Nearest to sad: smile, RARE, guys, becomes, kevin,\n",
      "Loss at step 31000 : 4.08970403671\n",
      "Loss at step 32000 : 3.41602420807\n",
      "Loss at step 33000 : 3.30572986603\n",
      "Loss at step 34000 : 3.55373263359\n",
      "Loss at step 35000 : 3.93141365051\n",
      "Loss at step 36000 : 3.68571400642\n",
      "Loss at step 37000 : 3.51329350471\n",
      "Loss at step 38000 : 3.61937952042\n",
      "Loss at step 39000 : 3.82008910179\n",
      "Loss at step 40000 : 3.10353565216\n",
      "Nearest to cliche: cheesy, adaptation, uplifting, elaborate, grant,\n",
      "Nearest to love: story, little, science, ones, process,\n",
      "Nearest to hate: early, unintentionally, sentiment, sick, us,\n",
      "Nearest to silly: believe, analyze, deep, addition, miss,\n",
      "Nearest to sad: smile, guys, eye, becomes, one,\n",
      "Loss at step 41000 : 3.99820375443\n",
      "Loss at step 42000 : 3.2691822052\n",
      "Loss at step 43000 : 4.22882032394\n",
      "Loss at step 44000 : 3.37730717659\n",
      "Loss at step 45000 : 3.87488627434\n",
      "Loss at step 46000 : 4.36846208572\n",
      "Loss at step 47000 : 3.50685358047\n",
      "Loss at step 48000 : 3.32634186745\n",
      "Loss at step 49000 : 2.83323550224\n",
      "Loss at step 50000 : 3.98150396347\n",
      "Nearest to cliche: adaptation, cheesy, uplifting, elaborate, grant,\n",
      "Nearest to love: story, accessible, little, one, science,\n",
      "Nearest to hate: early, unintentionally, sentiment, screenwriter, back,\n",
      "Nearest to silly: analyze, believe, addition, cute, deep,\n",
      "Nearest to sad: RARE, smile, eye, guys, given,\n",
      "Loss at step 51000 : 3.6647734642\n",
      "Loss at step 52000 : 4.03452587128\n",
      "Loss at step 53000 : 4.07241487503\n",
      "Loss at step 54000 : 3.9161157608\n",
      "Loss at step 55000 : 3.41975164413\n",
      "Loss at step 56000 : 4.22034215927\n",
      "Loss at step 57000 : 3.74699211121\n",
      "Loss at step 58000 : 3.95239329338\n",
      "Loss at step 59000 : 3.90336918831\n",
      "Loss at step 60000 : 3.61224365234\n",
      "Nearest to cliche: adaptation, cheesy, uplifting, elaborate, grant,\n",
      "Nearest to love: family, accessible, little, process, relationship,\n",
      "Nearest to hate: early, unintentionally, sentiment, society, desperately,\n",
      "Nearest to silly: analyze, addition, believe, capable, cute,\n",
      "Nearest to sad: eye, smile, given, becomes, career,\n",
      "Loss at step 61000 : 4.08873271942\n",
      "Loss at step 62000 : 4.15768861771\n",
      "Loss at step 63000 : 3.69340705872\n",
      "Loss at step 64000 : 3.10813570023\n",
      "Loss at step 65000 : 3.69801402092\n",
      "Loss at step 66000 : 4.27040910721\n",
      "Loss at step 67000 : 3.84484243393\n",
      "Loss at step 68000 : 4.02656030655\n",
      "Loss at step 69000 : 3.9449005127\n",
      "Loss at step 70000 : 3.59803032875\n",
      "Nearest to cliche: cheesy, adaptation, uplifting, heartfelt, grant,\n",
      "Nearest to love: accessible, relationship, new, one, story,\n",
      "Nearest to hate: early, unintentionally, thats, sentiment, mindless,\n",
      "Nearest to silly: analyze, addition, caper, believe, austin,\n",
      "Nearest to sad: eye, smile, given, RARE, guys,\n",
      "Loss at step 71000 : 4.23720026016\n",
      "Loss at step 72000 : 3.5655066967\n",
      "Loss at step 73000 : 3.15508174896\n",
      "Loss at step 74000 : 4.14952373505\n",
      "Loss at step 75000 : 3.57222223282\n",
      "Loss at step 76000 : 4.21946144104\n",
      "Loss at step 77000 : 4.49874448776\n",
      "Loss at step 78000 : 3.77536892891\n",
      "Loss at step 79000 : 3.6565053463\n",
      "Loss at step 80000 : 4.03030443192\n",
      "Nearest to cliche: cheesy, adaptation, heartfelt, grant, uplifting,\n",
      "Nearest to love: RARE, relationship, accessible, story, process,\n",
      "Nearest to hate: early, unintentionally, thats, mindless, sentiment,\n",
      "Nearest to silly: analyze, addition, caper, austin, seat,\n",
      "Nearest to sad: eye, smile, given, strangely, becomes,\n",
      "Loss at step 81000 : 3.72662758827\n",
      "Loss at step 82000 : 3.60326528549\n",
      "Loss at step 83000 : 2.98269963264\n",
      "Loss at step 84000 : 3.4172039032\n",
      "Loss at step 85000 : 4.13760328293\n",
      "Loss at step 86000 : 2.61596894264\n",
      "Loss at step 87000 : 4.1948466301\n",
      "Loss at step 88000 : 3.81059026718\n",
      "Loss at step 89000 : 3.18735527992\n",
      "Loss at step 90000 : 3.97598338127\n",
      "Nearest to cliche: cheesy, adaptation, heartfelt, uplifting, lane,\n",
      "Nearest to love: accessible, relationship, one, process, end,\n",
      "Nearest to hate: unintentionally, early, thats, desperately, mindless,\n",
      "Nearest to silly: analyze, addition, caper, austin, powers,\n",
      "Nearest to sad: eye, smile, becomes, humour, given,\n",
      "Loss at step 91000 : 3.7255589962\n",
      "Loss at step 92000 : 3.82069706917\n",
      "Loss at step 93000 : 3.63618588448\n",
      "Loss at step 94000 : 4.11655187607\n",
      "Loss at step 95000 : 3.57234740257\n",
      "Loss at step 96000 : 4.12596082687\n",
      "Loss at step 97000 : 4.0888428688\n",
      "Loss at step 98000 : 4.29531478882\n",
      "Loss at step 99000 : 3.25303339958\n",
      "Loss at step 100000 : 3.70331001282\n",
      "Nearest to cliche: cheesy, adaptation, heartfelt, grant, uplifting,\n",
      "Nearest to love: accessible, process, science, relationship, film,\n",
      "Nearest to hate: thats, mindless, unintentionally, early, desperately,\n",
      "Nearest to silly: austin, addition, caper, analyze, powers,\n",
      "Nearest to sad: eye, becomes, humour, grant, strangely,\n"
     ]
    }
   ],
   "source": [
    "# Run the skip gram model.\n",
    "loss_vec = []\n",
    "loss_x_vec = []\n",
    "for i in range(generations):\n",
    "    batch_inputs, batch_labels = generate_batch_data(text_data, batch_size, window_size)\n",
    "    feed_dict = {x_inputs : batch_inputs, y_target : batch_labels}\n",
    "\n",
    "    # Run the train step\n",
    "    sess.run(optimizer, feed_dict=feed_dict)\n",
    "\n",
    "    # Return the loss\n",
    "    if (i+1) % print_loss_every == 0:\n",
    "        loss_val = sess.run(loss, feed_dict=feed_dict)\n",
    "        loss_vec.append(loss_val)\n",
    "        loss_x_vec.append(i+1)\n",
    "        print(\"Loss at step {} : {}\".format(i+1, loss_val))\n",
    "      \n",
    "    # Validation: Print some random words and top 5 related words\n",
    "    if (i+1) % print_valid_every == 0:\n",
    "        sim = sess.run(similarity)\n",
    "        for j in range(len(valid_words)):\n",
    "            valid_word = word_dictionary_rev[valid_examples[j]]\n",
    "            top_k = 5 # number of nearest neighbors\n",
    "            nearest = (-sim[j, :]).argsort()[1:top_k+1]\n",
    "            log_str = \"Nearest to {}:\".format(valid_word)\n",
    "            for k in range(top_k):\n",
    "                close_word = word_dictionary_rev[nearest[k]]\n",
    "                score = sim[j,nearest[k]]\n",
    "                log_str = \"%s %s,\" % (log_str, close_word)\n",
    "            print(log_str)"
   ]
  },
  {
   "cell_type": "code",
   "execution_count": 21,
   "metadata": {
    "collapsed": false
   },
   "outputs": [
    {
     "data": {
      "image/png": "[encoded data removed]",
      "text/plain": [
       "<matplotlib.figure.Figure at 0x7fc114c2e7d0>"
      ]
     },
     "metadata": {},
     "output_type": "display_data"
    }
   ],
   "source": [
    "plt.plot(loss_vec,'k-')\n",
    "plt.show()"
   ]
  },
  {
   "cell_type": "code",
   "execution_count": 24,
   "metadata": {
    "collapsed": false
   },
   "outputs": [
    {
     "data": {
      "text/plain": [
       "100"
      ]
     },
     "execution_count": 24,
     "metadata": {},
     "output_type": "execute_result"
    }
   ],
   "source": [
    "len(loss_vec)"
   ]
  },
  {
   "cell_type": "code",
   "execution_count": null,
   "metadata": {
    "collapsed": true
   },
   "outputs": [],
   "source": []
  }
 ],
 "metadata": {
  "anaconda-cloud": {},
  "kernelspec": {
   "display_name": "Python [default]",
   "language": "python",
   "name": "python2"
  },
  "language_info": {
   "codemirror_mode": {
    "name": "ipython",
    "version": 2
   },
   "file_extension": ".py",
   "mimetype": "text/x-python",
   "name": "python",
   "nbconvert_exporter": "python",
   "pygments_lexer": "ipython2",
   "version": "2.7.12"
  }
 },
 "nbformat": 4,
 "nbformat_minor": 2
}
